{
 "cells": [
  {
   "cell_type": "code",
   "execution_count": 1,
   "metadata": {
    "collapsed": true,
    "pycharm": {
     "name": "#%%\n"
    }
   },
   "outputs": [],
   "source": [
    "from transformers import pipeline\n",
    "import wikipedia as wiki\n",
    "import torch\n",
    "from googletrans import Translator\n",
    "import googletrans\n",
    "from langdetect import detect"
   ]
  },
  {
   "cell_type": "code",
   "execution_count": null,
   "outputs": [],
   "source": [
    "# Setting the model for QA Engine\n",
    "model_name = \"deepset/roberta-base-squad2\""
   ],
   "metadata": {
    "collapsed": false,
    "pycharm": {
     "name": "#%%\n"
    }
   }
  },
  {
   "cell_type": "code",
   "execution_count": null,
   "outputs": [],
   "source": [
    "# Checking if the GPU is detected by PyTorch\n",
    "device = torch.device(0 if torch.cuda.is_available() else 'cpu')\n",
    "device"
   ],
   "metadata": {
    "collapsed": false,
    "pycharm": {
     "name": "#%%\n"
    }
   }
  },
  {
   "cell_type": "code",
   "execution_count": null,
   "outputs": [],
   "source": [
    "# Setting NLP pipeline for QA Engine\n",
    "nlp = pipeline('question-answering', model=model_name, tokenizer=model_name, device = device)\n",
    "nlp"
   ],
   "metadata": {
    "collapsed": false,
    "pycharm": {
     "name": "#%%\n"
    }
   }
  },
  {
   "cell_type": "code",
   "execution_count": null,
   "outputs": [],
   "source": [
    "# Function to find relevant wikipedia content for given tag\n",
    "def find_wiki_content(tag):\n",
    "    results = wiki.search(tag)\n",
    "    page = wiki.page(results[0], auto_suggest=False)\n",
    "    return page.content"
   ],
   "metadata": {
    "collapsed": false,
    "pycharm": {
     "name": "#%%\n"
    }
   }
  },
  {
   "cell_type": "code",
   "execution_count": null,
   "outputs": [],
   "source": [
    "# Function to run QA Engine on question text and tag\n",
    "def QA_run_inference(question_text, tag):\n",
    "    lang = detect(question_text)\n",
    "    ts = Translator()\n",
    "    translated_tag = ts.translate(tag)\n",
    "    result = ts.translate(question_text)\n",
    "    page_content = find_wiki_content(translated_tag.text)\n",
    "    QA_input = {'question': result.text,'context': page_content}\n",
    "    answer = nlp(QA_input)\n",
    "    translated_answer = ts.translate(answer['answer'], dest=lang).text\n",
    "    answer['translated_answer'] = translated_answer\n",
    "    answer['original_language'] = googletrans.LANGUAGES[lang]\n",
    "    return answer"
   ],
   "metadata": {
    "collapsed": false,
    "pycharm": {
     "name": "#%%\n"
    }
   }
  },
  {
   "cell_type": "code",
   "execution_count": null,
   "outputs": [],
   "source": [
    "QA_run_inference(\"Wer ist der aktuelle Präsident der USA?\", \"President USA\")"
   ],
   "metadata": {
    "collapsed": false,
    "pycharm": {
     "name": "#%%\n"
    }
   }
  },
  {
   "cell_type": "code",
   "execution_count": null,
   "outputs": [],
   "source": [
    "QA_run_inference(\"Quelle est la valeur de pi ?\", \"Pi\")"
   ],
   "metadata": {
    "collapsed": false,
    "pycharm": {
     "name": "#%%\n"
    }
   }
  },
  {
   "cell_type": "code",
   "execution_count": null,
   "outputs": [],
   "source": [
    "QA_run_inference(\"What is R?\", \"R Programming Language\")"
   ],
   "metadata": {
    "collapsed": false,
    "pycharm": {
     "name": "#%%\n"
    }
   }
  },
  {
   "cell_type": "code",
   "execution_count": 36,
   "outputs": [
    {
     "data": {
      "text/plain": "{'score': 0.7530295252799988,\n 'start': 150,\n 'end': 157,\n 'answer': '3.14159',\n 'translated_answer': '3.14159',\n 'original_language': 'french'}"
     },
     "execution_count": 36,
     "metadata": {},
     "output_type": "execute_result"
    }
   ],
   "source": [
    "QA_run_inference(\"Quelle est la valeur de pi ?\", \"Pi\")"
   ],
   "metadata": {
    "collapsed": false
   }
  },
  {
   "cell_type": "code",
   "execution_count": 62,
   "outputs": [
    {
     "name": "stderr",
     "output_type": "stream",
     "text": [
      "C:\\ProgramData\\anaconda3\\lib\\site-packages\\transformers\\pipelines\\base.py:1043: UserWarning: You seem to be using the pipelines sequentially on GPU. In order to maximize efficiency please use a dataset\n",
      "  warnings.warn(\n"
     ]
    },
    {
     "data": {
      "text/plain": "{'score': 0.4661586582660675,\n 'start': 5,\n 'end': 66,\n 'answer': 'a programming language for statistical computing and graphics',\n 'translated_answer': 'a programming language for statistical computing and graphics',\n 'original_language': 'english'}"
     },
     "execution_count": 62,
     "metadata": {},
     "output_type": "execute_result"
    }
   ],
   "source": [
    "QA_run_inference(\"What is R?\", \"R Programming Language\")"
   ],
   "metadata": {
    "collapsed": false
   }
  },
  {
   "cell_type": "code",
   "execution_count": null,
   "outputs": [],
   "source": [],
   "metadata": {
    "collapsed": false
   }
  }
 ],
 "metadata": {
  "kernelspec": {
   "display_name": "Python 3",
   "language": "python",
   "name": "python3"
  },
  "language_info": {
   "codemirror_mode": {
    "name": "ipython",
    "version": 2
   },
   "file_extension": ".py",
   "mimetype": "text/x-python",
   "name": "python",
   "nbconvert_exporter": "python",
   "pygments_lexer": "ipython2",
   "version": "2.7.6"
  }
 },
 "nbformat": 4,
 "nbformat_minor": 0
}